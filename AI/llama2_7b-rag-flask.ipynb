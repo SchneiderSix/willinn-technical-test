{
  "cells": [
    {
      "cell_type": "markdown",
      "metadata": {
        "id": "Dawf8EIpeM6-"
      },
      "source": [
        "Install packages"
      ]
    },
    {
      "cell_type": "code",
      "execution_count": 1,
      "metadata": {
        "id": "SYuUHNzHeQcB"
      },
      "outputs": [],
      "source": [
        "!pip install -q langchain langchain_community langchain-huggingface transformers accelerate bitsandbytes langchain_unstructured faiss-cpu unstructured unstructured[pdf]"
      ]
    },
    {
      "cell_type": "markdown",
      "metadata": {
        "id": "kz4FgdiOel03"
      },
      "source": [
        "Load libraries"
      ]
    },
    {
      "cell_type": "code",
      "execution_count": 2,
      "metadata": {
        "id": "q1ryiXluenzJ"
      },
      "outputs": [],
      "source": [
        "from langchain.chains import LLMChain, SequentialChain\n",
        "from langchain.memory import ConversationBufferMemory\n",
        "from langchain_huggingface  import HuggingFacePipeline\n",
        "from langchain import PromptTemplate,  LLMChain\n",
        "from langchain.schema.output_parser import StrOutputParser\n",
        "from langchain_unstructured import UnstructuredLoader\n",
        "from langchain_community.vectorstores import FAISS\n",
        "from langchain_huggingface import HuggingFaceEmbeddings\n",
        "from langchain.prompts import ChatPromptTemplate\n",
        "from langchain.schema.output_parser import StrOutputParser\n",
        "from langchain.chains import ConversationalRetrievalChain\n",
        "\n",
        "\n",
        "from transformers import AutoModel, pipeline\n",
        "import torch\n",
        "import transformers\n",
        "from transformers import AutoTokenizer, AutoModelForCausalLM, BitsAndBytesConfig\n",
        "\n",
        "import json\n",
        "import textwrap"
      ]
    },
    {
      "cell_type": "markdown",
      "metadata": {
        "id": "OiIsbdxle5n0"
      },
      "source": [
        "Download the model"
      ]
    },
    {
      "cell_type": "code",
      "execution_count": 3,
      "metadata": {
        "colab": {
          "base_uri": "https://localhost:8080/",
          "height": 153,
          "referenced_widgets": [
            "8cb968cab6a44f4ca0a467007f5b2e61",
            "b7d3d449d2004b9d8164d68bb5cb08d7",
            "2812332e433d447d9001a67d0ffe77da",
            "91f1b2f916c84089bb6dada4d1aa8754",
            "5b272f38c911434eb9f615d688aba2b2",
            "b24cc016ca0a49f2a0a7f41c67fb036d",
            "677dc665ab744caab376a4ae70147325",
            "7dd23779eb7049e4a4313ea253565d44",
            "946ec33cc589457c88d452703b42e7c4",
            "c5d77d09ee7b4a64bbfa67f4e4a15584",
            "1699c57676fc48deab3e7977104bf7a1"
          ]
        },
        "id": "esACUPDre7J2",
        "outputId": "b699b0b9-3367-4763-8ea5-7c50dfdea504"
      },
      "outputs": [
        {
          "name": "stderr",
          "output_type": "stream",
          "text": [
            "/usr/local/lib/python3.10/dist-packages/huggingface_hub/utils/_token.py:89: UserWarning: \n",
            "The secret `HF_TOKEN` does not exist in your Colab secrets.\n",
            "To authenticate with the Hugging Face Hub, create a token in your settings tab (https://huggingface.co/settings/tokens), set it as secret in your Google Colab and restart your session.\n",
            "You will be able to reuse this secret in all of your notebooks.\n",
            "Please note that authentication is recommended but still optional to access public models or datasets.\n",
            "  warnings.warn(\n"
          ]
        },
        {
          "data": {
            "application/vnd.jupyter.widget-view+json": {
              "model_id": "8cb968cab6a44f4ca0a467007f5b2e61",
              "version_major": 2,
              "version_minor": 0
            },
            "text/plain": [
              "Loading checkpoint shards:   0%|          | 0/2 [00:00<?, ?it/s]"
            ]
          },
          "metadata": {},
          "output_type": "display_data"
        }
      ],
      "source": [
        "tokenizer = AutoTokenizer.from_pretrained(\"NousResearch/Llama-2-7b-chat-hf\")\n",
        "\n",
        "quantization_config = BitsAndBytesConfig(\n",
        "    load_in_4bit=True,\n",
        "    bnb_4bit_compute_dtype=torch.float16,\n",
        "    bnb_4bit_quant_type=\"nf4\"\n",
        ")\n",
        "\n",
        "model = AutoModelForCausalLM.from_pretrained(\n",
        "    \"NousResearch/Llama-2-7b-chat-hf\",\n",
        "    device_map='auto',\n",
        "    torch_dtype=torch.float16,\n",
        "    quantization_config=quantization_config\n",
        ")"
      ]
    },
    {
      "cell_type": "markdown",
      "metadata": {
        "id": "67IIq4SCjKCw"
      },
      "source": [
        "Define transformers pipeline"
      ]
    },
    {
      "cell_type": "code",
      "execution_count": 4,
      "metadata": {
        "id": "Hq4KBXwGjF58"
      },
      "outputs": [],
      "source": [
        "pipe = pipeline(\"text-generation\",\n",
        "                model=model,\n",
        "                tokenizer= tokenizer,\n",
        "                torch_dtype=torch.float16,\n",
        "                device_map=\"auto\",\n",
        "                max_new_tokens = 512,\n",
        "                do_sample=True,\n",
        "                top_k=30,\n",
        "                num_return_sequences=1,\n",
        "                eos_token_id=tokenizer.eos_token_id,\n",
        "                return_full_text=False\n",
        "                )"
      ]
    },
    {
      "cell_type": "markdown",
      "metadata": {
        "id": "c2IWcoIxjtlk"
      },
      "source": [
        "Define LLM"
      ]
    },
    {
      "cell_type": "code",
      "execution_count": 5,
      "metadata": {
        "id": "ezjF-grnjcsg"
      },
      "outputs": [],
      "source": [
        "llm = HuggingFacePipeline(pipeline = pipe, model_kwargs = {'temperature':0.7,'max_length': 256, 'top_k' :50})"
      ]
    },
    {
      "cell_type": "markdown",
      "metadata": {
        "id": "OfX7N7HgnQ9Y"
      },
      "source": [
        "Create vector store"
      ]
    },
    {
      "cell_type": "code",
      "execution_count": 6,
      "metadata": {
        "colab": {
          "base_uri": "https://localhost:8080/",
          "height": 90
        },
        "id": "Ua7fDB8bJg8z",
        "outputId": "99718833-60ca-45c0-8b22-ae6ac9f5aa42"
      },
      "outputs": [
        {
          "name": "stderr",
          "output_type": "stream",
          "text": [
            "/usr/local/lib/python3.10/dist-packages/transformers/tokenization_utils_base.py:1601: FutureWarning: `clean_up_tokenization_spaces` was not set. It will be set to `True` by default. This behavior will be depracted in transformers v4.45, and will be then set to `False` by default. For more details check this issue: https://github.com/huggingface/transformers/issues/31884\n",
            "  warnings.warn(\n"
          ]
        },
        {
          "data": {
            "application/vnd.google.colaboratory.intrinsic+json": {
              "type": "string"
            },
            "text/plain": [
              "'\\nnew_vector_store = FAISS.load_local(\\n    \"vector_store\", embeddings, allow_dangerous_deserialization=True\\n)\\n\\ndocs = new_vector_store.similarity_search(\"qux\")\\n\\ndocs[0]\\n'"
            ]
          },
          "execution_count": 6,
          "metadata": {},
          "output_type": "execute_result"
        }
      ],
      "source": [
        "\n",
        "\n",
        "# Papers\n",
        "docs_path = [\n",
        "    \"/content/documents/16458859.pdf\",\n",
        "    \"/content/documents/234242.pdf\",\n",
        "    \"/content/documents/234256.pdf\",\n",
        "    \"/content/documents/234789.pdf\",\n",
        "    \"/content/documents/23789243.pdf\",\n",
        "    \"/content/documents/43521232.pdf\",\n",
        "    \"/content/documents/9827347.pdf\"\n",
        "]\n",
        "\n",
        "# Get documents\n",
        "loader = UnstructuredLoader(docs_path)\n",
        "documents = loader.load()\n",
        "\n",
        "# Vectorize documents\n",
        "model_name = \"sentence-transformers/all-mpnet-base-v2\"\n",
        "model_kwargs = {\"device\": \"cuda\"}\n",
        "\n",
        "embeddings = HuggingFaceEmbeddings(model_name=model_name, model_kwargs=model_kwargs)\n",
        "\n",
        "vector_store = FAISS.from_documents(documents, embeddings)\n",
        "\n",
        "# Save the vector store to disk\n",
        "vector_store.save_local(\"vector_store\")\n",
        "\n",
        "\"\"\"\n",
        "new_vector_store = FAISS.load_local(\n",
        "    \"vector_store\", embeddings, allow_dangerous_deserialization=True\n",
        ")\n",
        "\n",
        "docs = new_vector_store.similarity_search(\"qux\")\n",
        "\n",
        "docs[0]\n",
        "\"\"\"\n"
      ]
    },
    {
      "cell_type": "markdown",
      "metadata": {
        "id": "R01HUDzfjTjl"
      },
      "source": [
        "Define prompt format"
      ]
    },
    {
      "cell_type": "code",
      "execution_count": 7,
      "metadata": {
        "id": "95btzShIjO02"
      },
      "outputs": [],
      "source": [
        "custom_template = \"\"\"\n",
        "You are an assistant for question-answering tasks. Use the following pieces of retrieved context to answer the question. If you don't know the answer, just say that you don't know. Keep the answer concise.\n",
        "\n",
        "Chat History: {chat_history}\n",
        "\n",
        "Question: {question}\n",
        "\n",
        "Context: {context}\n",
        "\n",
        "Answer:\n",
        "\"\"\""
      ]
    },
    {
      "cell_type": "markdown",
      "metadata": {
        "id": "QIkkM0d4k8pW"
      },
      "source": [
        "Define chain"
      ]
    },
    {
      "cell_type": "code",
      "execution_count": 8,
      "metadata": {
        "id": "XvBzb9jHk-kl"
      },
      "outputs": [],
      "source": [
        "chain = ConversationalRetrievalChain.from_llm(llm, vector_store.as_retriever(), return_source_documents=True, combine_docs_chain_kwargs={\"prompt\": ChatPromptTemplate.from_template(custom_template)})"
      ]
    },
    {
      "cell_type": "markdown",
      "metadata": {
        "id": "226rvQhvlBWc"
      },
      "source": [
        "Test"
      ]
    },
    {
      "cell_type": "code",
      "execution_count": 9,
      "metadata": {
        "colab": {
          "base_uri": "https://localhost:8080/"
        },
        "id": "G63NJDp0lCXX",
        "outputId": "2185bf81-e049-4b5a-ab78-0ee04f12eadd"
      },
      "outputs": [
        {
          "name": "stderr",
          "output_type": "stream",
          "text": [
            "<ipython-input-9-544f6d0c223c>:4: LangChainDeprecationWarning: The method `Chain.__call__` was deprecated in langchain 0.1.0 and will be removed in 1.0. Use :meth:`~invoke` instead.\n",
            "  result = chain({\"question\": query, \"chat_history\": chat_history})\n"
          ]
        },
        {
          "name": "stdout",
          "output_type": "stream",
          "text": [
            "\n",
            "There is no problem with birds.\n",
            "There is no problem with birds.\n"
          ]
        }
      ],
      "source": [
        "chat_history = []\n",
        "\n",
        "query = \"is there a problem with birds?\"\n",
        "result = chain({\"question\": query, \"chat_history\": chat_history})\n",
        "\n",
        "chat_history.append((query, result['answer']))\n",
        "\n",
        "print(result['answer'])\n",
        "\n",
        "\n",
        "query = \"Which was my first question?\"\n",
        "result = chain({\"question\": query, \"chat_history\": chat_history})\n",
        "\n",
        "chat_history.append((query, result['answer']))\n",
        "\n",
        "print(result['answer'])"
      ]
    },
    {
      "cell_type": "markdown",
      "metadata": {
        "id": "KcTnnugPmCHt"
      },
      "source": [
        "Run flask"
      ]
    },
    {
      "cell_type": "code",
      "execution_count": 10,
      "metadata": {
        "colab": {
          "base_uri": "https://localhost:8080/"
        },
        "id": "UIi8obTDuxA-",
        "outputId": "17b9de8e-6a0e-4cce-bb74-f7e254f69c04"
      },
      "outputs": [
        {
          "name": "stdout",
          "output_type": "stream",
          "text": [
            "Requirement already satisfied: pyngrok in /usr/local/lib/python3.10/dist-packages (7.2.0)\n",
            "Requirement already satisfied: flasgger in /usr/local/lib/python3.10/dist-packages (0.9.7.1)\n",
            "Requirement already satisfied: PyYAML>=5.1 in /usr/local/lib/python3.10/dist-packages (from pyngrok) (6.0.2)\n",
            "Requirement already satisfied: Flask>=0.10 in /usr/local/lib/python3.10/dist-packages (from flasgger) (2.2.5)\n",
            "Requirement already satisfied: jsonschema>=3.0.1 in /usr/local/lib/python3.10/dist-packages (from flasgger) (4.23.0)\n",
            "Requirement already satisfied: mistune in /usr/local/lib/python3.10/dist-packages (from flasgger) (3.0.2)\n",
            "Requirement already satisfied: six>=1.10.0 in /usr/local/lib/python3.10/dist-packages (from flasgger) (1.16.0)\n",
            "Requirement already satisfied: packaging in /usr/local/lib/python3.10/dist-packages (from flasgger) (24.1)\n",
            "Requirement already satisfied: Werkzeug>=2.2.2 in /usr/local/lib/python3.10/dist-packages (from Flask>=0.10->flasgger) (3.0.6)\n",
            "Requirement already satisfied: Jinja2>=3.0 in /usr/local/lib/python3.10/dist-packages (from Flask>=0.10->flasgger) (3.1.4)\n",
            "Requirement already satisfied: itsdangerous>=2.0 in /usr/local/lib/python3.10/dist-packages (from Flask>=0.10->flasgger) (2.2.0)\n",
            "Requirement already satisfied: click>=8.0 in /usr/local/lib/python3.10/dist-packages (from Flask>=0.10->flasgger) (8.1.7)\n",
            "Requirement already satisfied: attrs>=22.2.0 in /usr/local/lib/python3.10/dist-packages (from jsonschema>=3.0.1->flasgger) (24.2.0)\n",
            "Requirement already satisfied: jsonschema-specifications>=2023.03.6 in /usr/local/lib/python3.10/dist-packages (from jsonschema>=3.0.1->flasgger) (2024.10.1)\n",
            "Requirement already satisfied: referencing>=0.28.4 in /usr/local/lib/python3.10/dist-packages (from jsonschema>=3.0.1->flasgger) (0.35.1)\n",
            "Requirement already satisfied: rpds-py>=0.7.1 in /usr/local/lib/python3.10/dist-packages (from jsonschema>=3.0.1->flasgger) (0.20.0)\n",
            "Requirement already satisfied: MarkupSafe>=2.0 in /usr/local/lib/python3.10/dist-packages (from Jinja2>=3.0->Flask>=0.10->flasgger) (3.0.2)\n"
          ]
        }
      ],
      "source": [
        "!pip install --upgrade pyngrok flasgger"
      ]
    },
    {
      "cell_type": "code",
      "execution_count": 11,
      "metadata": {
        "colab": {
          "base_uri": "https://localhost:8080/"
        },
        "id": "SDPuoXn0mDHu",
        "outputId": "e2fdd536-8d81-4811-b0ad-3185e49cd1f1"
      },
      "outputs": [
        {
          "name": "stdout",
          "output_type": "stream",
          "text": [
            "Requirement already satisfied: flask-ngrok in /usr/local/lib/python3.10/dist-packages (0.0.25)\n",
            "Requirement already satisfied: Flask>=0.8 in /usr/local/lib/python3.10/dist-packages (from flask-ngrok) (2.2.5)\n",
            "Requirement already satisfied: requests in /usr/local/lib/python3.10/dist-packages (from flask-ngrok) (2.32.3)\n",
            "Requirement already satisfied: Werkzeug>=2.2.2 in /usr/local/lib/python3.10/dist-packages (from Flask>=0.8->flask-ngrok) (3.0.6)\n",
            "Requirement already satisfied: Jinja2>=3.0 in /usr/local/lib/python3.10/dist-packages (from Flask>=0.8->flask-ngrok) (3.1.4)\n",
            "Requirement already satisfied: itsdangerous>=2.0 in /usr/local/lib/python3.10/dist-packages (from Flask>=0.8->flask-ngrok) (2.2.0)\n",
            "Requirement already satisfied: click>=8.0 in /usr/local/lib/python3.10/dist-packages (from Flask>=0.8->flask-ngrok) (8.1.7)\n",
            "Requirement already satisfied: charset-normalizer<4,>=2 in /usr/local/lib/python3.10/dist-packages (from requests->flask-ngrok) (3.4.0)\n",
            "Requirement already satisfied: idna<4,>=2.5 in /usr/local/lib/python3.10/dist-packages (from requests->flask-ngrok) (3.10)\n",
            "Requirement already satisfied: urllib3<3,>=1.21.1 in /usr/local/lib/python3.10/dist-packages (from requests->flask-ngrok) (2.2.3)\n",
            "Requirement already satisfied: certifi>=2017.4.17 in /usr/local/lib/python3.10/dist-packages (from requests->flask-ngrok) (2024.8.30)\n",
            "Requirement already satisfied: MarkupSafe>=2.0 in /usr/local/lib/python3.10/dist-packages (from Jinja2>=3.0->Flask>=0.8->flask-ngrok) (3.0.2)\n"
          ]
        }
      ],
      "source": [
        "!pip install flask-ngrok"
      ]
    },
    {
      "cell_type": "code",
      "execution_count": 12,
      "metadata": {
        "colab": {
          "base_uri": "https://localhost:8080/"
        },
        "id": "L5DKVUkvujpG",
        "outputId": "6ddd993b-bf81-4cd8-ee34-74c2c4fadae1"
      },
      "outputs": [
        {
          "name": "stdout",
          "output_type": "stream",
          "text": [
            "Authtoken saved to configuration file: /root/.config/ngrok/ngrok.yml\n"
          ]
        }
      ],
      "source": [
        "!ngrok authtoken 'YOUR_NGROK_KEY'"
      ]
    },
    {
      "cell_type": "code",
      "execution_count": 13,
      "metadata": {
        "colab": {
          "base_uri": "https://localhost:8080/"
        },
        "id": "e5JqXFREoTMO",
        "outputId": "81b65bca-6cdf-40be-89c1-fff2e4dd0ebe"
      },
      "outputs": [
        {
          "name": "stdout",
          "output_type": "stream",
          "text": [
            " * ngrok tunnel \"https://2b5d-34-124-243-19.ngrok-free.app\" -> \"http://127.0.0.1:5000\"\n"
          ]
        }
      ],
      "source": [
        "import os\n",
        "import threading\n",
        "import time\n",
        "from flask import Flask, jsonify, request, redirect, session\n",
        "from pyngrok import ngrok\n",
        "from flasgger import Swagger\n",
        "\n",
        "class TokenBucket:\n",
        "    def __init__(self, capacity, refill_rate):\n",
        "        self.capacity = capacity\n",
        "        self.tokens = capacity\n",
        "        self.refill_rate = refill_rate  # Tokens per second\n",
        "        self.last_refill = time.time()\n",
        "\n",
        "    def refill(self):\n",
        "        now = time.time()\n",
        "        elapsed = now - self.last_refill\n",
        "        refill_amount = elapsed * self.refill_rate\n",
        "        self.tokens = min(self.capacity, self.tokens + refill_amount)\n",
        "        self.last_refill = now\n",
        "\n",
        "    def take_token(self):\n",
        "        self.refill()\n",
        "        if self.tokens >= 1:\n",
        "            self.tokens -= 1\n",
        "            return True\n",
        "        return False\n",
        "\n",
        "# Initialize the token bucket\n",
        "bucket = TokenBucket(capacity=10, refill_rate=3)\n",
        "\n",
        "app = Flask(__name__)\n",
        "app.secret_key = 'your_secret_key'  # Add your secret key\n",
        "port = \"5000\"\n",
        "\n",
        "# Initialize Swagger\n",
        "swagger = Swagger(app)\n",
        "\n",
        "# Open a ngrok tunnel to the HTTP server\n",
        "public_url = ngrok.connect(port).public_url\n",
        "print(f\" * ngrok tunnel \\\"{public_url}\\\" -> \\\"http://127.0.0.1:{port}\\\"\")\n",
        "\n",
        "app.config[\"BASE_URL\"] = public_url\n",
        "\n",
        "# Rate limiter middleware\n",
        "@app.before_request\n",
        "def rate_limiter():\n",
        "    if not bucket.take_token():\n",
        "        return jsonify({\"detail\": \"Rate limit exceeded\"}), 429\n",
        "\n",
        "# Define Flask routes\n",
        "@app.route(\"/\")\n",
        "def index():\n",
        "    # Redirect to the Swagger UI\n",
        "    return redirect(\"/apidocs/\")\n",
        "\n",
        "@app.route(\"/chat\", methods=[\"POST\"])\n",
        "def chat():\n",
        "    \"\"\"\n",
        "    Chat with the bot\n",
        "    ---\n",
        "    parameters:\n",
        "      - name: query\n",
        "        in: body\n",
        "        required: true\n",
        "        schema:\n",
        "          type: object\n",
        "          properties:\n",
        "            query:\n",
        "              type: string\n",
        "              description: The question to ask the bot\n",
        "    responses:\n",
        "      200:\n",
        "        description: Answer from the bot\n",
        "        schema:\n",
        "          type: object\n",
        "          properties:\n",
        "            answer:\n",
        "              type: string\n",
        "      400:\n",
        "        description: Bad request due to missing query parameter\n",
        "        schema:\n",
        "          type: object\n",
        "          properties:\n",
        "            detail:\n",
        "              type: string\n",
        "      429:\n",
        "        description: Rate limit exceeded\n",
        "        schema:\n",
        "          type: object\n",
        "          properties:\n",
        "            detail:\n",
        "              type: string\n",
        "    \"\"\"\n",
        "    data = request.json\n",
        "    query = data.get('query')\n",
        "\n",
        "    if not query:\n",
        "        return jsonify({\"detail\": \"Query parameter is required\"}), 400\n",
        "\n",
        "    # Initialize chat_history in the session if it doesn't exist\n",
        "    if 'chat_history' not in session:\n",
        "        session['chat_history'] = []\n",
        "\n",
        "    # Use the chat history from the session\n",
        "    chat_history = session['chat_history']\n",
        "\n",
        "    try:\n",
        "        result = chain({\"question\": query, \"chat_history\": chat_history})  # Ensure `chain` is defined\n",
        "\n",
        "        # Append the user query and the bot response to the session's chat history\n",
        "        chat_history.append((query, result['answer']))\n",
        "        session['chat_history'] = chat_history  # Save back to the session\n",
        "\n",
        "        return jsonify({\"answer\": result['answer']})\n",
        "\n",
        "    except Exception as e:\n",
        "        return jsonify({\"detail\": str(e)}), 500  # Handle unexpected errors\n",
        "\n",
        "# Start the Flask server in a new thread\n",
        "threading.Thread(target=app.run, kwargs={\"use_reloader\": False, \"port\": port}).start()\n"
      ]
    }
  ],
  "metadata": {
    "accelerator": "GPU",
    "colab": {
      "gpuType": "T4",
      "machine_shape": "hm",
      "provenance": []
    },
    "kernelspec": {
      "display_name": "Python 3",
      "name": "python3"
    },
    "language_info": {
      "name": "python"
    },
    "widgets": {
      "application/vnd.jupyter.widget-state+json": {
        "1699c57676fc48deab3e7977104bf7a1": {
          "model_module": "@jupyter-widgets/controls",
          "model_module_version": "1.5.0",
          "model_name": "DescriptionStyleModel",
          "state": {
            "_model_module": "@jupyter-widgets/controls",
            "_model_module_version": "1.5.0",
            "_model_name": "DescriptionStyleModel",
            "_view_count": null,
            "_view_module": "@jupyter-widgets/base",
            "_view_module_version": "1.2.0",
            "_view_name": "StyleView",
            "description_width": ""
          }
        },
        "2812332e433d447d9001a67d0ffe77da": {
          "model_module": "@jupyter-widgets/controls",
          "model_module_version": "1.5.0",
          "model_name": "FloatProgressModel",
          "state": {
            "_dom_classes": [],
            "_model_module": "@jupyter-widgets/controls",
            "_model_module_version": "1.5.0",
            "_model_name": "FloatProgressModel",
            "_view_count": null,
            "_view_module": "@jupyter-widgets/controls",
            "_view_module_version": "1.5.0",
            "_view_name": "ProgressView",
            "bar_style": "success",
            "description": "",
            "description_tooltip": null,
            "layout": "IPY_MODEL_7dd23779eb7049e4a4313ea253565d44",
            "max": 2,
            "min": 0,
            "orientation": "horizontal",
            "style": "IPY_MODEL_946ec33cc589457c88d452703b42e7c4",
            "value": 2
          }
        },
        "5b272f38c911434eb9f615d688aba2b2": {
          "model_module": "@jupyter-widgets/base",
          "model_module_version": "1.2.0",
          "model_name": "LayoutModel",
          "state": {
            "_model_module": "@jupyter-widgets/base",
            "_model_module_version": "1.2.0",
            "_model_name": "LayoutModel",
            "_view_count": null,
            "_view_module": "@jupyter-widgets/base",
            "_view_module_version": "1.2.0",
            "_view_name": "LayoutView",
            "align_content": null,
            "align_items": null,
            "align_self": null,
            "border": null,
            "bottom": null,
            "display": null,
            "flex": null,
            "flex_flow": null,
            "grid_area": null,
            "grid_auto_columns": null,
            "grid_auto_flow": null,
            "grid_auto_rows": null,
            "grid_column": null,
            "grid_gap": null,
            "grid_row": null,
            "grid_template_areas": null,
            "grid_template_columns": null,
            "grid_template_rows": null,
            "height": null,
            "justify_content": null,
            "justify_items": null,
            "left": null,
            "margin": null,
            "max_height": null,
            "max_width": null,
            "min_height": null,
            "min_width": null,
            "object_fit": null,
            "object_position": null,
            "order": null,
            "overflow": null,
            "overflow_x": null,
            "overflow_y": null,
            "padding": null,
            "right": null,
            "top": null,
            "visibility": null,
            "width": null
          }
        },
        "677dc665ab744caab376a4ae70147325": {
          "model_module": "@jupyter-widgets/controls",
          "model_module_version": "1.5.0",
          "model_name": "DescriptionStyleModel",
          "state": {
            "_model_module": "@jupyter-widgets/controls",
            "_model_module_version": "1.5.0",
            "_model_name": "DescriptionStyleModel",
            "_view_count": null,
            "_view_module": "@jupyter-widgets/base",
            "_view_module_version": "1.2.0",
            "_view_name": "StyleView",
            "description_width": ""
          }
        },
        "7dd23779eb7049e4a4313ea253565d44": {
          "model_module": "@jupyter-widgets/base",
          "model_module_version": "1.2.0",
          "model_name": "LayoutModel",
          "state": {
            "_model_module": "@jupyter-widgets/base",
            "_model_module_version": "1.2.0",
            "_model_name": "LayoutModel",
            "_view_count": null,
            "_view_module": "@jupyter-widgets/base",
            "_view_module_version": "1.2.0",
            "_view_name": "LayoutView",
            "align_content": null,
            "align_items": null,
            "align_self": null,
            "border": null,
            "bottom": null,
            "display": null,
            "flex": null,
            "flex_flow": null,
            "grid_area": null,
            "grid_auto_columns": null,
            "grid_auto_flow": null,
            "grid_auto_rows": null,
            "grid_column": null,
            "grid_gap": null,
            "grid_row": null,
            "grid_template_areas": null,
            "grid_template_columns": null,
            "grid_template_rows": null,
            "height": null,
            "justify_content": null,
            "justify_items": null,
            "left": null,
            "margin": null,
            "max_height": null,
            "max_width": null,
            "min_height": null,
            "min_width": null,
            "object_fit": null,
            "object_position": null,
            "order": null,
            "overflow": null,
            "overflow_x": null,
            "overflow_y": null,
            "padding": null,
            "right": null,
            "top": null,
            "visibility": null,
            "width": null
          }
        },
        "8cb968cab6a44f4ca0a467007f5b2e61": {
          "model_module": "@jupyter-widgets/controls",
          "model_module_version": "1.5.0",
          "model_name": "HBoxModel",
          "state": {
            "_dom_classes": [],
            "_model_module": "@jupyter-widgets/controls",
            "_model_module_version": "1.5.0",
            "_model_name": "HBoxModel",
            "_view_count": null,
            "_view_module": "@jupyter-widgets/controls",
            "_view_module_version": "1.5.0",
            "_view_name": "HBoxView",
            "box_style": "",
            "children": [
              "IPY_MODEL_b7d3d449d2004b9d8164d68bb5cb08d7",
              "IPY_MODEL_2812332e433d447d9001a67d0ffe77da",
              "IPY_MODEL_91f1b2f916c84089bb6dada4d1aa8754"
            ],
            "layout": "IPY_MODEL_5b272f38c911434eb9f615d688aba2b2"
          }
        },
        "91f1b2f916c84089bb6dada4d1aa8754": {
          "model_module": "@jupyter-widgets/controls",
          "model_module_version": "1.5.0",
          "model_name": "HTMLModel",
          "state": {
            "_dom_classes": [],
            "_model_module": "@jupyter-widgets/controls",
            "_model_module_version": "1.5.0",
            "_model_name": "HTMLModel",
            "_view_count": null,
            "_view_module": "@jupyter-widgets/controls",
            "_view_module_version": "1.5.0",
            "_view_name": "HTMLView",
            "description": "",
            "description_tooltip": null,
            "layout": "IPY_MODEL_c5d77d09ee7b4a64bbfa67f4e4a15584",
            "placeholder": "​",
            "style": "IPY_MODEL_1699c57676fc48deab3e7977104bf7a1",
            "value": " 2/2 [00:06&lt;00:00,  2.78s/it]"
          }
        },
        "946ec33cc589457c88d452703b42e7c4": {
          "model_module": "@jupyter-widgets/controls",
          "model_module_version": "1.5.0",
          "model_name": "ProgressStyleModel",
          "state": {
            "_model_module": "@jupyter-widgets/controls",
            "_model_module_version": "1.5.0",
            "_model_name": "ProgressStyleModel",
            "_view_count": null,
            "_view_module": "@jupyter-widgets/base",
            "_view_module_version": "1.2.0",
            "_view_name": "StyleView",
            "bar_color": null,
            "description_width": ""
          }
        },
        "b24cc016ca0a49f2a0a7f41c67fb036d": {
          "model_module": "@jupyter-widgets/base",
          "model_module_version": "1.2.0",
          "model_name": "LayoutModel",
          "state": {
            "_model_module": "@jupyter-widgets/base",
            "_model_module_version": "1.2.0",
            "_model_name": "LayoutModel",
            "_view_count": null,
            "_view_module": "@jupyter-widgets/base",
            "_view_module_version": "1.2.0",
            "_view_name": "LayoutView",
            "align_content": null,
            "align_items": null,
            "align_self": null,
            "border": null,
            "bottom": null,
            "display": null,
            "flex": null,
            "flex_flow": null,
            "grid_area": null,
            "grid_auto_columns": null,
            "grid_auto_flow": null,
            "grid_auto_rows": null,
            "grid_column": null,
            "grid_gap": null,
            "grid_row": null,
            "grid_template_areas": null,
            "grid_template_columns": null,
            "grid_template_rows": null,
            "height": null,
            "justify_content": null,
            "justify_items": null,
            "left": null,
            "margin": null,
            "max_height": null,
            "max_width": null,
            "min_height": null,
            "min_width": null,
            "object_fit": null,
            "object_position": null,
            "order": null,
            "overflow": null,
            "overflow_x": null,
            "overflow_y": null,
            "padding": null,
            "right": null,
            "top": null,
            "visibility": null,
            "width": null
          }
        },
        "b7d3d449d2004b9d8164d68bb5cb08d7": {
          "model_module": "@jupyter-widgets/controls",
          "model_module_version": "1.5.0",
          "model_name": "HTMLModel",
          "state": {
            "_dom_classes": [],
            "_model_module": "@jupyter-widgets/controls",
            "_model_module_version": "1.5.0",
            "_model_name": "HTMLModel",
            "_view_count": null,
            "_view_module": "@jupyter-widgets/controls",
            "_view_module_version": "1.5.0",
            "_view_name": "HTMLView",
            "description": "",
            "description_tooltip": null,
            "layout": "IPY_MODEL_b24cc016ca0a49f2a0a7f41c67fb036d",
            "placeholder": "​",
            "style": "IPY_MODEL_677dc665ab744caab376a4ae70147325",
            "value": "Loading checkpoint shards: 100%"
          }
        },
        "c5d77d09ee7b4a64bbfa67f4e4a15584": {
          "model_module": "@jupyter-widgets/base",
          "model_module_version": "1.2.0",
          "model_name": "LayoutModel",
          "state": {
            "_model_module": "@jupyter-widgets/base",
            "_model_module_version": "1.2.0",
            "_model_name": "LayoutModel",
            "_view_count": null,
            "_view_module": "@jupyter-widgets/base",
            "_view_module_version": "1.2.0",
            "_view_name": "LayoutView",
            "align_content": null,
            "align_items": null,
            "align_self": null,
            "border": null,
            "bottom": null,
            "display": null,
            "flex": null,
            "flex_flow": null,
            "grid_area": null,
            "grid_auto_columns": null,
            "grid_auto_flow": null,
            "grid_auto_rows": null,
            "grid_column": null,
            "grid_gap": null,
            "grid_row": null,
            "grid_template_areas": null,
            "grid_template_columns": null,
            "grid_template_rows": null,
            "height": null,
            "justify_content": null,
            "justify_items": null,
            "left": null,
            "margin": null,
            "max_height": null,
            "max_width": null,
            "min_height": null,
            "min_width": null,
            "object_fit": null,
            "object_position": null,
            "order": null,
            "overflow": null,
            "overflow_x": null,
            "overflow_y": null,
            "padding": null,
            "right": null,
            "top": null,
            "visibility": null,
            "width": null
          }
        }
      }
    }
  },
  "nbformat": 4,
  "nbformat_minor": 0
}
